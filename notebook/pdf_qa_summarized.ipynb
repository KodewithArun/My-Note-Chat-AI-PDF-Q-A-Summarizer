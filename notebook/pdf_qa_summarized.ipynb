{
 "cells": [
  {
   "cell_type": "markdown",
   "id": "e15f3301",
   "metadata": {},
   "source": [
    "#### Import Necessary Libraries"
   ]
  },
  {
   "cell_type": "code",
   "execution_count": 1,
   "id": "5012bfd1",
   "metadata": {},
   "outputs": [],
   "source": [
    "import os\n",
    "import shutil\n",
    "from dotenv import load_dotenv"
   ]
  },
  {
   "cell_type": "code",
   "execution_count": null,
   "id": "c68cdf0f",
   "metadata": {},
   "outputs": [],
   "source": [
    "# LangChain imports\n",
    "from langchain.text_splitter import RecursiveCharacterTextSplitter\n",
    "from langchain.prompts import PromptTemplate\n",
    "from langchain.schema import Document\n",
    "\n",
    "\n",
    "# Embeddings & Vector Store\n",
    "from langchain_huggingface import HuggingFaceEmbeddings\n",
    "from langchain_chroma import Chroma\n",
    "\n",
    "# Parent Document Retriever\n",
    "from langchain.retrievers import ParentDocumentRetriever\n",
    "from langchain.storage import InMemoryStore\n",
    "\n",
    "# LLM\n",
    "from langchain_groq import ChatGroq\n",
    "\n",
    "# PDF Parsing\n",
    "from llama_parse import LlamaParse"
   ]
  },
  {
   "cell_type": "code",
   "execution_count": 18,
   "id": "f3555c8a",
   "metadata": {},
   "outputs": [],
   "source": [
    "# Load environment variables\n",
    "load_dotenv()\n",
    "LLAMA_API_KEY = os.getenv(\"LLAMA_PARSE_API_KEY\")\n",
    "GROQ_API_KEY = os.getenv(\"GROQ_API_KEY\")\n",
    "\n",
    "\n",
    "# Define directories\n",
    "UPLOAD_DIR = \"documents/uploaded_file\"\n",
    "PARSED_DIR = \"documents/parsed_md\"\n",
    "\n",
    "os.makedirs(UPLOAD_DIR, exist_ok=True)\n",
    "os.makedirs(PARSED_DIR, exist_ok=True)"
   ]
  },
  {
   "cell_type": "code",
   "execution_count": null,
   "id": "c888ba1d",
   "metadata": {},
   "outputs": [
    {
     "name": "stdout",
     "output_type": "stream",
     "text": [
      "✅ PDF stored at: documents/uploaded_file\\pom.pdf\n"
     ]
    }
   ],
   "source": [
    "# Step 1: Save uploaded PDF (simulate here)\n",
    "pdf_name = \"test.pdf\"   # Replace with user-uploaded filename\n",
    "pdf_path = os.path.join(UPLOAD_DIR, pdf_name)\n",
    "\n",
    "# Copy test PDF into upload folder\n",
    "if not os.path.exists(pdf_path):\n",
    "    shutil.copy(\"test.pdf\", pdf_path)\n",
    "\n",
    "print(\"✅ PDF stored at:\", pdf_path)"
   ]
  },
  {
   "cell_type": "code",
   "execution_count": 5,
   "id": "e12de1df",
   "metadata": {},
   "outputs": [
    {
     "name": "stdout",
     "output_type": "stream",
     "text": [
      "Started parsing the file under job_id 3edc41a5-4594-443e-b2a9-8c888f26c520\n",
      "✅ PDF parsed into 5 markdown documents.\n"
     ]
    }
   ],
   "source": [
    "# Step 2: Parse PDF with LlamaParse and save as Markdown\n",
    "parser = LlamaParse(\n",
    "    api_key=LLAMA_API_KEY,\n",
    "    result_type=\"markdown\",\n",
    "    verbose=True,\n",
    "    system_prompt=\"\"\"You are a document parser. Extract the content into clean, structured markdown format.\n",
    "    - Preserve headings, subheadings, paragraphs clearly.\n",
    "    - Convert tables into proper markdown table syntax.\n",
    "    - Represent images with markdown image syntax ![Description](image_placeholder).\n",
    "    - If image data is missing, describe the image briefly in place.\n",
    "    - Keep lists, bullet points, and code blocks formatted.\n",
    "    - Avoid extra line breaks or broken markdown syntax.\n",
    "            \"\"\"\n",
    ")\n",
    "\n",
    "docs = parser.load_data(pdf_path)\n",
    "\n",
    "print(f\"✅ PDF parsed into {len(docs)} markdown documents.\")"
   ]
  },
  {
   "cell_type": "code",
   "execution_count": 6,
   "id": "468e9f39",
   "metadata": {},
   "outputs": [
    {
     "name": "stdout",
     "output_type": "stream",
     "text": [
      "✅ Markdown stored at: documents/parsed_md\\pom.md\n",
      "Sample Markdown Content:\n",
      " # Perspectives in Management\n",
      "\n",
      "## Introduction\n",
      "- Management was developed along with the development of human civilization.\n",
      "- In early times, people began to organize themselves in family and community units. These early formations laid the foundation for managing resources, time, and efforts.\n",
      "\n",
      "Management today consists of many well-developed principles and perspectives such as:\n",
      "- **Classical Theory**: Focuses on organizational structure, efficiency, and formal rules to improve productivity.\n",
      "- **\n"
     ]
    }
   ],
   "source": [
    "# Save to Markdown\n",
    "md_file_path = os.path.join(PARSED_DIR, pdf_name.replace(\".pdf\", \".md\"))\n",
    "with open(md_file_path, \"w\", encoding=\"utf-8\") as f:\n",
    "    for doc in docs:\n",
    "        f.write(doc.text + \"\\n\\n\")\n",
    "\n",
    "print(\"✅ Markdown stored at:\", md_file_path)\n",
    "print( \"Sample Markdown Content:\\n\", docs[0].text[:500] )  # Print first 500 chars of first doc"
   ]
  },
  {
   "cell_type": "code",
   "execution_count": 9,
   "id": "261ffc8b",
   "metadata": {},
   "outputs": [
    {
     "name": "stdout",
     "output_type": "stream",
     "text": [
      "✅ Converted 5 docs to LangChain Document format\n",
      "Sample Document Metadata: {'source': 'documents/uploaded_file\\\\pom.pdf', 'page': 1}\n"
     ]
    }
   ],
   "source": [
    "#Step 3: Convert parsed docs into LangChain Document objects\n",
    "lc_docs = [\n",
    "    Document(page_content=d.text, metadata={\"source\": pdf_path, \"page\": i+1})\n",
    "    for i, d in enumerate(docs)\n",
    "]\n",
    "\n",
    "print(f\"✅ Converted {len(lc_docs)} docs to LangChain Document format\")\n",
    "print(\"Sample Document Metadata:\", lc_docs[0].metadata)"
   ]
  },
  {
   "cell_type": "code",
   "execution_count": 10,
   "id": "5469bc20",
   "metadata": {},
   "outputs": [
    {
     "name": "stdout",
     "output_type": "stream",
     "text": [
      "Sample ParentDocumentRetriever: vectorstore=<langchain_chroma.vectorstores.Chroma object at 0x000001306D62BEC0> docstore=<langchain_core.stores.InMemoryStore object at 0x000001306DBD5E20> search_kwargs={} child_splitter=<langchain_text_splitters.character.RecursiveCharacterTextSplitter object at 0x000001304FD6F140> parent_splitter=<langchain_text_splitters.character.RecursiveCharacterTextSplitter object at 0x000001304FD6DC40>\n"
     ]
    }
   ],
   "source": [
    "# Step 3: Setup ParentDocumentRetriever\n",
    "parent_splitter = RecursiveCharacterTextSplitter(chunk_size=2000, chunk_overlap=200)\n",
    "child_splitter = RecursiveCharacterTextSplitter(chunk_size=500, chunk_overlap=50)\n",
    "\n",
    "embeddings = HuggingFaceEmbeddings(model_name=\"sentence-transformers/all-MiniLM-L6-v2\")\n",
    "\n",
    "vectorstore = Chroma(embedding_function=embeddings, persist_directory=\"notebook/chroma_db\")\n",
    "doc_store = InMemoryStore()\n",
    "\n",
    "parent_retriever = ParentDocumentRetriever(\n",
    "    vectorstore=vectorstore,\n",
    "    docstore=doc_store,\n",
    "    child_splitter=child_splitter,\n",
    "    parent_splitter=parent_splitter\n",
    ")\n",
    "# lets print a sample of the parent retriever\n",
    "print(\"Sample ParentDocumentRetriever:\", parent_retriever)\n"
   ]
  },
  {
   "cell_type": "code",
   "execution_count": 13,
   "id": "8da83c06",
   "metadata": {},
   "outputs": [
    {
     "name": "stdout",
     "output_type": "stream",
     "text": [
      "✅ Documents added to ParentDocumentRetriever\n",
      "🔍 Retrieved 2 parent documents\n",
      "Sample result snippet:\n",
      " # The Evolution of Management Thinking\n",
      "\n",
      "As the industrial revolution began, factories grew, and the need for better ways to manage people and work increased. This led to the development of scientific approaches to management.\n",
      "\n",
      "## Early Pioneers in Management\n",
      "\n",
      "Even in early civilizations, management ideas were in practice. Here are three pioneers who made significant contributions to early management thinking:\n",
      "\n",
      "1. **Robert Owen (1771-1855)**\n",
      "- **Who he was:** A British industrialist and social re\n"
     ]
    }
   ],
   "source": [
    "# Index documents\n",
    "parent_retriever.add_documents(lc_docs)\n",
    "\n",
    "print(\"✅ Documents added to ParentDocumentRetriever\")\n",
    "\n",
    "# Test retrieval\n",
    "query = \"What is the main purpose of this document?\"\n",
    "results = parent_retriever.get_relevant_documents(query)\n",
    "\n",
    "print(f\"🔍 Retrieved {len(results)} parent documents\")\n",
    "print(\"Sample result snippet:\\n\", results[0].page_content[:500])"
   ]
  },
  {
   "cell_type": "code",
   "execution_count": 19,
   "id": "cc09e12e",
   "metadata": {},
   "outputs": [
    {
     "name": "stdout",
     "output_type": "stream",
     "text": [
      "Hello! Yes, I'm active and ready to assist you with any questions or topics you'd like to discuss. How can I help you today?\n"
     ]
    }
   ],
   "source": [
    "# Step 5: Setup Groq LLM\n",
    "llm = ChatGroq(model=\"llama-3.1-8b-instant\", api_key=os.getenv(\"GROQ_API_KEY\"))\n",
    "\n",
    "# check model connection \n",
    "response = llm.invoke(\"Hello! Can you confirm you’re active?\")\n",
    "print(response.content)"
   ]
  },
  {
   "cell_type": "code",
   "execution_count": 20,
   "id": "29bade29",
   "metadata": {},
   "outputs": [
    {
     "name": "stdout",
     "output_type": "stream",
     "text": [
      "You are a helpful and fact-based QA assistant.\n",
      "\n",
      "Use ONLY the information from the context below to answer the question.\n",
      "If the context does not clearly contain the answer, reply exactly with:\n",
      "\"Insufficient information in the provided context.\"\n",
      "\n",
      "Be clear, concise, and strictly factual.\n",
      "Do not add assumptions or outside knowledge.\n",
      "\n",
      "Context:\n",
      "The Nile is the longest river in Africa.\n",
      "\n",
      "Question:\n",
      "Which continent is the Nile located in?\n",
      "\n",
      "Answer:\n"
     ]
    }
   ],
   "source": [
    "qa_prompt = PromptTemplate(\n",
    "    input_variables=[\"context\", \"question\"],\n",
    "    template=\n",
    "\"You are a helpful and fact-based QA assistant.\\n\\n\"\n",
    "        \"Use ONLY the information from the context below to answer the question.\\n\"\n",
    "        \"If the context does not clearly contain the answer, reply exactly with:\\n\"\n",
    "        \"\\\"Insufficient information in the provided context.\\\"\\n\\n\"\n",
    "        \"Be clear, concise, and strictly factual.\\n\"\n",
    "        \"Do not add assumptions or outside knowledge.\\n\\n\"\n",
    "        \"Context:\\n{context}\\n\\n\"\n",
    "        \"Question:\\n{question}\\n\\n\"\n",
    "        \"Answer:\"\n",
    ")\n",
    "\n",
    "# summarize_prompt = PromptTemplate(\n",
    "#     input_variables=[\"context\"],\n",
    "#     template= \"You are a professional summarizer.\\n\\n\"\n",
    "#         \"Read the document below and summarize it into clear, concise, and complete bullet points.\\n\"\n",
    "#         \"Use only the information found in the document. Avoid assumptions or external details.\\n\\n\"\n",
    "#         \"Document:\\n{context}\\n\\n\"\n",
    "#         \"Summary (in bullet points):\"\n",
    "# )\n",
    "\n",
    "test_prompt = qa_prompt.format(\n",
    "    context=\"The Nile is the longest river in Africa.\",\n",
    "    question=\"Which continent is the Nile located in?\"\n",
    ")\n",
    "\n",
    "print(test_prompt)"
   ]
  },
  {
   "cell_type": "code",
   "execution_count": 21,
   "id": "4c27336f",
   "metadata": {},
   "outputs": [
    {
     "name": "stdout",
     "output_type": "stream",
     "text": [
      "# Principles of Workplace Relationships\n",
      "\n",
      "## Principle 1: Friendly and Respectful Relationships\n",
      "- There should be a friendly and respectful relationship between management and workers.\n",
      "- Both sides must understand that they have common goals and can benefit together.\n",
      "- Problems should be solved through open discussion, mutual understanding, and cooperation.\n",
      "\n",
      "## Principle 2: Cooperation, Not Individualism\n",
      "- Managers and workers should not work separately as different groups; they should work toget\n"
     ]
    }
   ],
   "source": [
    "# Step 7: Preprocess retriever output\n",
    "from langchain_core.runnables import RunnableLambda\n",
    "def extract_text(docs):\n",
    "    return \"\\n\\n\".join([doc.page_content for doc in docs])\n",
    "\n",
    "sample_docs = parent_retriever.get_relevant_documents(\"test question\")\n",
    "print(extract_text(sample_docs)[:500])\n"
   ]
  },
  {
   "cell_type": "code",
   "execution_count": 22,
   "id": "70402f14",
   "metadata": {},
   "outputs": [
    {
     "name": "stdout",
     "output_type": "stream",
     "text": [
      "✅ Retrieved context length: 5623\n",
      "Sample context snippet:\n",
      " # A. Scientific Management Theory\n",
      "\n",
      "**Developed by:** Frederick Winslow Taylor (1856–1915)\n",
      "*(Worked as a foreman at the Midvale Steel Company, USA.)*\n",
      "Frederick Winslow Taylor is known as the Father of Scientific Management. Scientific management is about finding the best and most efficient way to perform a task. It focuses on productivity, efficiency, and the systematic improvement of worker perfor\n"
     ]
    }
   ],
   "source": [
    "retriever_chain = RunnableLambda(lambda x: parent_retriever.get_relevant_documents(x[\"question\"])) | RunnableLambda(extract_text)\n",
    "\n",
    "# debugging the retriever chain\n",
    "test_input = {\"question\": \"What is the main topic of this document?\"}\n",
    "context_text = retriever_chain.invoke(test_input)\n",
    "\n",
    "print(\"✅ Retrieved context length:\", len(context_text))\n",
    "print(\"Sample context snippet:\\n\", context_text[:400])"
   ]
  },
  {
   "cell_type": "code",
   "execution_count": 23,
   "id": "20ad95e2",
   "metadata": {},
   "outputs": [
    {
     "name": "stdout",
     "output_type": "stream",
     "text": [
      "🧾 Answer:\n",
      " The key finding or topic of this document is Frederick Winslow Taylor's Scientific Management Theory.\n"
     ]
    }
   ],
   "source": [
    "# Step 8: Build QA chain\n",
    "from langchain_core.runnables import RunnableLambda, RunnableParallel, RunnableSequence\n",
    "qa_chain = RunnableSequence(\n",
    "    RunnableParallel({\n",
    "        \"context\": retriever_chain,\n",
    "        \"question\": RunnableLambda(lambda x: x[\"question\"])\n",
    "    })\n",
    "    | qa_prompt\n",
    "    | llm\n",
    ")\n",
    "\n",
    "\n",
    "\n",
    "# Test the QA chain\n",
    "query = \"What is the key finding or topic of this document?\"\n",
    "result = qa_chain.invoke({\"question\": query})\n",
    "\n",
    "print(\"🧾 Answer:\\n\", result.content)\n",
    "\n",
    "\n"
   ]
  },
  {
   "cell_type": "code",
   "execution_count": 25,
   "id": "33b5b68f",
   "metadata": {},
   "outputs": [],
   "source": [
    "# Step 9: Build Summarization chain\n",
    "# Reuse ParentDocumentRetriever's child chunks\n",
    "child_docs = []\n",
    "for parent in lc_docs:\n",
    "    child_docs.extend(parent_retriever.child_splitter.split_text(parent.page_content))\n",
    "\n",
    "# Use a very concise prompt for chunks\n",
    "chunk_summarize_prompt = PromptTemplate(\n",
    "    input_variables=[\"context\"],\n",
    "    template=(\n",
    "         \"You are a professional summarizer.\\n\\n\"\n",
    "    \"Summarize the following text into concise bullet points and space.\\n\"\n",
    "    \"Each bullet point should start with a '-' and clearly highlight the topic.\\n\"\n",
    "    \"Ensure that each new topic is separated by a line break for clarity and space.\\n\"\n",
    "    \"Do NOT include any headers, repeated phrases, or unnecessary wording.\\n\"\n",
    "    \"Keep all information factual, concise, and clear.\\n\\n\"\n",
    "    \"Text:\\n{context}\\n\\n\"\n",
    "    \"Summary (in clean bullet points):\"\n",
    ")\n",
    ")\n",
    "\n",
    "\n",
    "chunk_summaries = []\n",
    "for c in child_docs:\n",
    "    summarize_chain_chunk = RunnableSequence(\n",
    "        RunnableParallel({\n",
    "            \"context\": RunnableLambda(lambda x: c)\n",
    "        })\n",
    "        | chunk_summarize_prompt\n",
    "        | llm\n",
    "    )\n",
    "    result = summarize_chain_chunk.invoke({\"topic\": \"ignored\"})\n",
    "    chunk_summaries.append(result.content.strip())\n",
    "\n",
    "final_summary = \"\\n\".join([\n",
    "    line for chunk in chunk_summaries\n",
    "    for line in chunk.split(\"\\n\")\n",
    "    if line.strip() != \"\"\n",
    "])\n",
    "\n"
   ]
  },
  {
   "cell_type": "code",
   "execution_count": 26,
   "id": "3e93e637",
   "metadata": {},
   "outputs": [
    {
     "name": "stdout",
     "output_type": "stream",
     "text": [
      "📄 Final Summary:\n",
      " - Development of Management\n",
      "- Management originated with the development of human civilization.\n",
      "- Early Forms of Management\n",
      "- People organized themselves in family and community units.\n",
      "- These early formations managed resources, time, and efforts.\n",
      "- Evolution of Management\n",
      "- Management continued to evolve with the growth of civilizations.\n",
      "-\n",
      "- Classical Theory: Focuses on organizational structure, efficiency, and formal rules to improve productivity.\n",
      "Management principles and perspectives continue to evolve.\n",
      "- Human Relations and Behavioral Science: Emphasizes employee motivation, relationships, and the impact of human behavior on work.\n",
      "- Decision Science: Uses data, models, and analysis to support and improve decision-making.\n",
      "- Management Science: a field that combines mathematical and analytical techniques to address management issues and enhance operational efficiency.\n",
      "- It focuses on applying scientific methods to solve complex business problems and optimize organizational processes\n"
     ]
    }
   ],
   "source": [
    "print(\"📄 Final Summary:\\n\", final_summary[:1000])  # print first 1000 chars"
   ]
  }
 ],
 "metadata": {
  "kernelspec": {
   "display_name": ".pdfqa (3.12.7)",
   "language": "python",
   "name": "python3"
  },
  "language_info": {
   "codemirror_mode": {
    "name": "ipython",
    "version": 3
   },
   "file_extension": ".py",
   "mimetype": "text/x-python",
   "name": "python",
   "nbconvert_exporter": "python",
   "pygments_lexer": "ipython3",
   "version": "3.12.7"
  }
 },
 "nbformat": 4,
 "nbformat_minor": 5
}
